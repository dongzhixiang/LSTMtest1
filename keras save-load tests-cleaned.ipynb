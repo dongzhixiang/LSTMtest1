{
 "cells": [
  {
   "cell_type": "code",
   "execution_count": 1,
   "metadata": {
    "collapsed": false,
    "scrolled": true
   },
   "outputs": [
    {
     "name": "stderr",
     "output_type": "stream",
     "text": [
      "Using gpu device 0: GeForce GTX 960\n"
     ]
    }
   ],
   "source": [
    "from keras.models import model_from_yaml\n",
    "import  numpy as np\n"
   ]
  },
  {
   "cell_type": "code",
   "execution_count": 120,
   "metadata": {
    "collapsed": false,
    "scrolled": true
   },
   "outputs": [],
   "source": [
    "from vectorizer import Vectorizer\n",
    "py=\"\\n\\nfrom keras.models import Sequential\\nfrom keras.layers.recurrent import LSTM, JZS1, GRU\\n\" * 20\n"
   ]
  },
  {
   "cell_type": "code",
   "execution_count": 121,
   "metadata": {
    "collapsed": false,
    "scrolled": true
   },
   "outputs": [
    {
     "name": "stdout",
     "output_type": "stream",
     "text": [
      "{0: '', 1: 'r', 2: 'e', 3: ' ', 4: 'm', 5: 'o', 6: 'a', 7: 's', 8: 't', 9: '\\n', 10: 'S', 11: 'i', 12: 'l', 13: '.', 14: 'k', 15: 'u', 16: ',', 17: 'f', 18: 'p', 19: 'n', 20: '1', 21: 'J', 22: 'G', 23: 'Z', 24: 'c', 25: 'T', 26: 'U', 27: 'y', 28: 'd', 29: 'q', 30: 'L', 31: 'M', 32: 'R'}\n"
     ]
    }
   ],
   "source": [
    "vec = Vectorizer(py, cutoff=60)\n",
    "\n",
    "print(dict(enumerate(vec.dictionary)))"
   ]
  },
  {
   "cell_type": "code",
   "execution_count": 123,
   "metadata": {
    "collapsed": false,
    "scrolled": true
   },
   "outputs": [
    {
     "name": "stdout",
     "output_type": "stream",
     "text": [
      "(1719, 40, 33)\n",
      "(1719, 33)\n"
     ]
    }
   ],
   "source": [
    "window_len = 40\n",
    "matrix = vec.to_matrix(py)\n",
    "trainX = []\n",
    "trainy = []\n",
    "\n",
    "for i in range(len(matrix)-window_len-1):\n",
    "    trainX.append(matrix[i:i+window_len])\n",
    "    trainy.append(matrix[i+window_len]) \n",
    "\n",
    "trainX = np.array(trainX,dtype=\"float32\")\n",
    "trainy = np.array(trainy,dtype=\"float32\")\n",
    "\n",
    "print(trainX.shape)\n",
    "print(trainy.shape)\n"
   ]
  },
  {
   "cell_type": "code",
   "execution_count": 141,
   "metadata": {
    "collapsed": false,
    "scrolled": true
   },
   "outputs": [
    {
     "name": "stdout",
     "output_type": "stream",
     "text": [
      "Initial loss\n",
      "1719/1719 [==============================] - 1s     \n",
      "[0.044052711637596394, 0.0]\n",
      "Training\n",
      "Epoch 0\n",
      "1719/1719 [==============================] - 6s - loss: 0.0355 - acc: 0.0355     \n",
      "Epoch 1\n",
      "1719/1719 [==============================] - 6s - loss: 0.0310 - acc: 0.0913     \n",
      "Epoch 2\n",
      "1719/1719 [==============================] - 6s - loss: 0.0300 - acc: 0.1070     \n",
      "Epoch 3\n",
      "1719/1719 [==============================] - 6s - loss: 0.0295 - acc: 0.1193     \n",
      "Epoch 4\n",
      "1719/1719 [==============================] - 6s - loss: 0.0293 - acc: 0.1280     \n",
      "Epoch 5\n",
      "1719/1719 [==============================] - 6s - loss: 0.0290 - acc: 0.1326     \n",
      "Epoch 6\n",
      "1719/1719 [==============================] - 6s - loss: 0.0288 - acc: 0.1344     \n",
      "Epoch 7\n",
      "1719/1719 [==============================] - 6s - loss: 0.0287 - acc: 0.1373     \n",
      "Epoch 8\n",
      "1719/1719 [==============================] - 6s - loss: 0.0285 - acc: 0.1559     \n",
      "Epoch 9\n",
      "1719/1719 [==============================] - 6s - loss: 0.0284 - acc: 0.1542     \n",
      "Epoch 10\n",
      "1719/1719 [==============================] - 6s - loss: 0.0283 - acc: 0.1798     \n",
      "Epoch 11\n",
      "1719/1719 [==============================] - 6s - loss: 0.0282 - acc: 0.1803     \n",
      "Epoch 12\n",
      "1719/1719 [==============================] - 6s - loss: 0.0281 - acc: 0.1838     \n",
      "Epoch 13\n",
      "1719/1719 [==============================] - 6s - loss: 0.0280 - acc: 0.1879     \n",
      "Epoch 14\n",
      "1719/1719 [==============================] - 6s - loss: 0.0279 - acc: 0.1966     \n",
      "Epoch 15\n",
      "1719/1719 [==============================] - 6s - loss: 0.0279 - acc: 0.2001     \n",
      "Epoch 16\n",
      "1719/1719 [==============================] - 6s - loss: 0.0278 - acc: 0.2024     \n",
      "Epoch 17\n",
      "1719/1719 [==============================] - 6s - loss: 0.0277 - acc: 0.2065     \n",
      "Epoch 18\n",
      "1719/1719 [==============================] - 6s - loss: 0.0276 - acc: 0.2141     \n",
      "Epoch 19\n",
      "1719/1719 [==============================] - 6s - loss: 0.0276 - acc: 0.2135     \n",
      "Epoch 20\n",
      "1719/1719 [==============================] - 6s - loss: 0.0275 - acc: 0.2129     \n",
      "Epoch 21\n",
      "1719/1719 [==============================] - 6s - loss: 0.0274 - acc: 0.2426     \n",
      "Epoch 22\n",
      "1719/1719 [==============================] - 6s - loss: 0.0273 - acc: 0.2333     \n",
      "Epoch 23\n",
      "1719/1719 [==============================] - 6s - loss: 0.0273 - acc: 0.2275     \n",
      "Epoch 24\n",
      "1719/1719 [==============================] - 6s - loss: 0.0272 - acc: 0.2455     \n",
      "Epoch 25\n",
      "1719/1719 [==============================] - 6s - loss: 0.0272 - acc: 0.2455     \n",
      "Epoch 26\n",
      "1719/1719 [==============================] - 6s - loss: 0.0271 - acc: 0.2577     \n",
      "Epoch 27\n",
      "1719/1719 [==============================] - 6s - loss: 0.0271 - acc: 0.2600     \n",
      "Epoch 28\n",
      "1719/1719 [==============================] - 6s - loss: 0.0270 - acc: 0.2624     \n",
      "Epoch 29\n",
      "1719/1719 [==============================] - 6s - loss: 0.0269 - acc: 0.2711     \n",
      "Epoch 30\n",
      "1719/1719 [==============================] - 6s - loss: 0.0269 - acc: 0.2781     \n",
      "Epoch 31\n",
      "1719/1719 [==============================] - 6s - loss: 0.0268 - acc: 0.2740     \n",
      "Epoch 32\n",
      "1719/1719 [==============================] - 7s - loss: 0.0267 - acc: 0.2984     \n",
      "Epoch 33\n",
      "1719/1719 [==============================] - 7s - loss: 0.0267 - acc: 0.2827     \n",
      "Epoch 34\n",
      "1719/1719 [==============================] - 6s - loss: 0.0267 - acc: 0.2868     \n",
      "Epoch 35\n",
      "1719/1719 [==============================] - 6s - loss: 0.0266 - acc: 0.2944     \n",
      "Epoch 36\n",
      "1719/1719 [==============================] - 6s - loss: 0.0265 - acc: 0.3147     \n",
      "Epoch 37\n",
      "1719/1719 [==============================] - 6s - loss: 0.0265 - acc: 0.2827     \n",
      "Epoch 38\n",
      "1719/1719 [==============================] - 6s - loss: 0.0264 - acc: 0.3077     \n",
      "Epoch 39\n",
      "1719/1719 [==============================] - 6s - loss: 0.0264 - acc: 0.3316     \n",
      "Epoch 40\n",
      "1719/1719 [==============================] - 6s - loss: 0.0263 - acc: 0.3159     \n",
      "Epoch 41\n",
      "1719/1719 [==============================] - 6s - loss: 0.0264 - acc: 0.3106     \n",
      "Epoch 42\n",
      "1719/1719 [==============================] - 6s - loss: 0.0263 - acc: 0.3089     \n",
      "Epoch 43\n",
      "1719/1719 [==============================] - 6s - loss: 0.0262 - acc: 0.3293     \n",
      "Epoch 44\n",
      "1719/1719 [==============================] - 6s - loss: 0.0261 - acc: 0.3165     \n",
      "Epoch 45\n",
      "1719/1719 [==============================] - 6s - loss: 0.0261 - acc: 0.3269     \n",
      "Epoch 46\n",
      "1719/1719 [==============================] - 6s - loss: 0.0260 - acc: 0.3165     \n",
      "Epoch 47\n",
      "1719/1719 [==============================] - 6s - loss: 0.0259 - acc: 0.3194     \n",
      "Epoch 48\n",
      "1719/1719 [==============================] - 6s - loss: 0.0259 - acc: 0.3351     \n",
      "Epoch 49\n",
      "1719/1719 [==============================] - 6s - loss: 0.0258 - acc: 0.3403     \n",
      "Epoch 50\n",
      "1719/1719 [==============================] - 6s - loss: 0.0258 - acc: 0.3362     \n",
      "Epoch 51\n",
      "1719/1719 [==============================] - 6s - loss: 0.0257 - acc: 0.3450     \n",
      "Epoch 52\n",
      "1719/1719 [==============================] - 6s - loss: 0.0258 - acc: 0.3223     \n",
      "Epoch 53\n",
      "1719/1719 [==============================] - 6s - loss: 0.0257 - acc: 0.3421     \n",
      "Epoch 54\n",
      "1719/1719 [==============================] - 6s - loss: 0.0256 - acc: 0.3514     \n",
      "Epoch 55\n",
      "1719/1719 [==============================] - 6s - loss: 0.0256 - acc: 0.3613     \n",
      "Epoch 56\n",
      "1719/1719 [==============================] - 6s - loss: 0.0255 - acc: 0.3432     \n",
      "Epoch 57\n",
      "1719/1719 [==============================] - 6s - loss: 0.0254 - acc: 0.3677     \n",
      "Epoch 58\n",
      "1719/1719 [==============================] - 6s - loss: 0.0256 - acc: 0.3554     \n",
      "Epoch 59\n",
      "1719/1719 [==============================] - 6s - loss: 0.0256 - acc: 0.3589     \n",
      "Epoch 60\n",
      "1719/1719 [==============================] - 6s - loss: 0.0253 - acc: 0.3677     \n",
      "Epoch 61\n",
      "1719/1719 [==============================] - 6s - loss: 0.0255 - acc: 0.3514     \n",
      "Epoch 62\n",
      "1719/1719 [==============================] - 6s - loss: 0.0252 - acc: 0.4014     \n",
      "Epoch 63\n",
      "1719/1719 [==============================] - 6s - loss: 0.0251 - acc: 0.3950     \n",
      "Epoch 64\n",
      "1719/1719 [==============================] - 6s - loss: 0.0251 - acc: 0.3828     \n",
      "Epoch 65\n",
      "1719/1719 [==============================] - 6s - loss: 0.0250 - acc: 0.3909     \n",
      "Epoch 66\n",
      "1719/1719 [==============================] - 6s - loss: 0.0250 - acc: 0.3979     \n",
      "Epoch 67\n",
      "1719/1719 [==============================] - 6s - loss: 0.0251 - acc: 0.4002     \n",
      "Epoch 68\n",
      "1719/1719 [==============================] - 6s - loss: 0.0249 - acc: 0.3944     \n",
      "Epoch 69\n",
      "1719/1719 [==============================] - 7s - loss: 0.0248 - acc: 0.4078     \n",
      "Epoch 70\n",
      "1719/1719 [==============================] - 7s - loss: 0.0249 - acc: 0.4113     \n",
      "Epoch 71\n",
      "1719/1719 [==============================] - 8s - loss: 0.0247 - acc: 0.4113     \n",
      "Epoch 72\n",
      "1719/1719 [==============================] - 6s - loss: 0.0248 - acc: 0.4241     \n",
      "Epoch 73\n",
      "1719/1719 [==============================] - 6s - loss: 0.0246 - acc: 0.4194     \n",
      "Epoch 74\n",
      "1719/1719 [==============================] - 6s - loss: 0.0247 - acc: 0.3967     \n",
      "Epoch 75\n",
      "1719/1719 [==============================] - 6s - loss: 0.0244 - acc: 0.4171     \n",
      "Epoch 76\n",
      "1719/1719 [==============================] - 6s - loss: 0.0245 - acc: 0.4212     \n",
      "Epoch 77\n",
      "1719/1719 [==============================] - 6s - loss: 0.0245 - acc: 0.4200     \n",
      "Epoch 78\n",
      "1719/1719 [==============================] - 6s - loss: 0.0245 - acc: 0.4090     \n",
      "Epoch 79\n",
      "1719/1719 [==============================] - 6s - loss: 0.0245 - acc: 0.4206     \n",
      "Epoch 80\n",
      "1719/1719 [==============================] - 6s - loss: 0.0242 - acc: 0.4351     \n",
      "Epoch 81\n",
      "1719/1719 [==============================] - 6s - loss: 0.0242 - acc: 0.4549     \n",
      "Epoch 82\n",
      "1719/1719 [==============================] - 6s - loss: 0.0243 - acc: 0.4276     \n",
      "Epoch 83\n",
      "1719/1719 [==============================] - 6s - loss: 0.0246 - acc: 0.4101     \n",
      "Epoch 84\n",
      "1719/1719 [==============================] - 6s - loss: 0.0241 - acc: 0.4398     \n",
      "Epoch 85\n",
      "1719/1719 [==============================] - 6s - loss: 0.0240 - acc: 0.4351     \n",
      "Epoch 86\n",
      "1719/1719 [==============================] - 6s - loss: 0.0244 - acc: 0.3950     \n",
      "Epoch 87\n",
      "1719/1719 [==============================] - 6s - loss: 0.0241 - acc: 0.4439     \n",
      "Epoch 88\n",
      "1719/1719 [==============================] - 6s - loss: 0.0241 - acc: 0.4346     \n",
      "Epoch 89\n",
      "1719/1719 [==============================] - 6s - loss: 0.0240 - acc: 0.4683     \n",
      "Epoch 90\n",
      "1719/1719 [==============================] - 6s - loss: 0.0239 - acc: 0.4503     \n",
      "Epoch 91\n",
      "1719/1719 [==============================] - 6s - loss: 0.0238 - acc: 0.4729     \n",
      "Epoch 92\n",
      "1719/1719 [==============================] - 6s - loss: 0.0237 - acc: 0.4479     \n",
      "Epoch 93\n",
      "1719/1719 [==============================] - 6s - loss: 0.0237 - acc: 0.4741     \n",
      "Epoch 94\n",
      "1719/1719 [==============================] - 6s - loss: 0.0235 - acc: 0.5015     \n",
      "Epoch 95\n",
      "1719/1719 [==============================] - 6s - loss: 0.0238 - acc: 0.4561     \n",
      "Epoch 96\n",
      "1719/1719 [==============================] - 6s - loss: 0.0236 - acc: 0.4968     \n",
      "Epoch 97\n",
      "1719/1719 [==============================] - 6s - loss: 0.0237 - acc: 0.4764     \n",
      "Epoch 98\n",
      "1719/1719 [==============================] - 6s - loss: 0.0235 - acc: 0.4823     \n",
      "Epoch 99\n",
      "1719/1719 [==============================] - 6s - loss: 0.0239 - acc: 0.4410     \n",
      "New loss\n",
      "1719/1719 [==============================] - 1s     \n",
      "[0.023333431469138934, 0.51018033740546831]\n"
     ]
    }
   ],
   "source": [
    "\n",
    "from keras.models import Sequential\n",
    "from keras.optimizers import Adadelta, SGD, Adagrad, RMSprop\n",
    "from keras.layers.core import Dense, TimeDistributedDense, Flatten\n",
    "from keras.layers.recurrent import LSTM, JZS1, GRU\n",
    "\n",
    "lstmmodel = Sequential()\n",
    "#model.add(LSTM(60,60, return_sequences=True))\n",
    "lstmmodel.add(LSTM(33,60, return_sequences=True))\n",
    "lstmmodel.add(LSTM(60,60))\n",
    "#ffmodel.add(Flatten())\n",
    "#ffmodel.add(TimeDistributedDense(1800,180))\n",
    "lstmmodel.add(Dense(60,33))\n",
    "lstmmodel.compile(optimizer=SGD(lr=0.1,momentum=0.8),loss='mse',class_mode=\"categorical\")\n",
    "\n",
    "print(\"Initial loss\")\n",
    "print(lstmmodel.evaluate(trainX,trainy,show_accuracy=True))\n",
    "print(\"Training\")\n",
    "lstmmodel.fit(trainX,trainy,nb_epoch = 100, show_accuracy=True,verbose=1)\n",
    "print(\"New loss\")\n",
    "print(lstmmodel.evaluate(trainX,trainy,show_accuracy=True))"
   ]
  },
  {
   "cell_type": "code",
   "execution_count": 145,
   "metadata": {
    "collapsed": false,
    "scrolled": true
   },
   "outputs": [
    {
     "name": "stdout",
     "output_type": "stream",
     "text": [
      "1719/1719 [==============================] - 1s     \n",
      "[0.023333431469138934, 0.51018033740546831]\n"
     ]
    }
   ],
   "source": [
    "print(lstmmodel.evaluate(trainX,trainy,show_accuracy=True))"
   ]
  },
  {
   "cell_type": "code",
   "execution_count": 146,
   "metadata": {
    "collapsed": false,
    "scrolled": true
   },
   "outputs": [
    {
     "name": "stdout",
     "output_type": "stream",
     "text": [
      "class_mode: categorical\n",
      "layers:\n",
      "- {activation: tanh, forget_bias_init: one, init: glorot_uniform, inner_activation: hard_sigmoid,\n",
      "  inner_init: orthogonal, input_dim: 33, name: LSTM, output_dim: 60, return_sequences: true,\n",
      "  truncate_gradient: -1}\n",
      "- {activation: tanh, forget_bias_init: one, init: glorot_uniform, inner_activation: hard_sigmoid,\n",
      "  inner_init: orthogonal, input_dim: 60, name: LSTM, output_dim: 60, return_sequences: false,\n",
      "  truncate_gradient: -1}\n",
      "- {W_constraint: null, W_regularizer: null, activation: linear, activity_regularizer: null,\n",
      "  b_constraint: null, b_regularizer: null, init: glorot_uniform, input_dim: 60, name: Dense,\n",
      "  output_dim: 33}\n",
      "loss: mean_squared_error\n",
      "name: Sequential\n",
      "optimizer: {decay: 0.0, lr: 0.1, momentum: 0.8, name: SGD, nesterov: false}\n",
      "theano_mode: null\n",
      "\n"
     ]
    }
   ],
   "source": [
    "lstmyaml=lstmmodel.to_yaml()\n",
    "print(lstmyaml)"
   ]
  },
  {
   "cell_type": "markdown",
   "metadata": {},
   "source": [
    "## Let's copy the LSTM model into a new model and transfer the weights"
   ]
  },
  {
   "cell_type": "code",
   "execution_count": 152,
   "metadata": {
    "collapsed": false,
    "scrolled": false
   },
   "outputs": [
    {
     "name": "stdout",
     "output_type": "stream",
     "text": [
      "1719/1719 [==============================] - 1s     \n",
      "[0.043840713632131052, 0.022687609075043629]\n",
      "1719/1719 [==============================] - 1s     \n",
      "Original: [0.023333431469138934, 0.51018033740546831]\n",
      "1719/1719 [==============================] - 1s     \n",
      "Copy: [0.023333431469138934, 0.51018033740546831]\n"
     ]
    }
   ],
   "source": [
    "lstmcopy = model_from_yaml(lstmyaml)\n",
    "print(lstmcopy.evaluate(trainX,trainy,show_accuracy=True))\n",
    "lstmweights=lstmmodel.get_weights()\n",
    "lstmcopy.set_weights(lstmweights)\n",
    "print(\"Original:\", lstmmodel.evaluate(trainX,trainy,show_accuracy=True))\n",
    "print(\"Copy:\",lstmcopy.evaluate(trainX,trainy,show_accuracy=True))\n"
   ]
  },
  {
   "cell_type": "markdown",
   "metadata": {
    "collapsed": false
   },
   "source": [
    "## So it works with LSTM!\n",
    "### Trained accuracy 51%, copied accuracy 51%\n"
   ]
  },
  {
   "cell_type": "markdown",
   "metadata": {},
   "source": [
    "## Let's try it with JZS1 then!"
   ]
  },
  {
   "cell_type": "code",
   "execution_count": 153,
   "metadata": {
    "collapsed": false,
    "scrolled": true
   },
   "outputs": [
    {
     "name": "stderr",
     "output_type": "stream",
     "text": [
      "DEBUG: nvcc STDOUT mod.cu\n",
      "   Creating library D:/Users/nico/AppData/Local/Theano/compiledir_Windows-7-6.1.7601-SP1-AMD64_Family_21_Model_2_Stepping_0_AuthenticAMD-3.4.3-64/tmpopwc0glz/m2f8b298e743455e6e0d4423a9bb3d736.lib and object D:/Users/nico/AppData/Local/Theano/compiledir_Windows-7-6.1.7601-SP1-AMD64_Family_21_Model_2_Stepping_0_AuthenticAMD-3.4.3-64/tmpopwc0glz/m2f8b298e743455e6e0d4423a9bb3d736.exp\n",
      "\n",
      "DEBUG: nvcc STDOUT mod.cu\n",
      "   Creating library D:/Users/nico/AppData/Local/Theano/compiledir_Windows-7-6.1.7601-SP1-AMD64_Family_21_Model_2_Stepping_0_AuthenticAMD-3.4.3-64/tmppk2c_sim/me3622db1900040e92072ee3096913150.lib and object D:/Users/nico/AppData/Local/Theano/compiledir_Windows-7-6.1.7601-SP1-AMD64_Family_21_Model_2_Stepping_0_AuthenticAMD-3.4.3-64/tmppk2c_sim/me3622db1900040e92072ee3096913150.exp\n",
      "\n",
      "DEBUG: nvcc STDOUT mod.cu\n",
      "   Creating library D:/Users/nico/AppData/Local/Theano/compiledir_Windows-7-6.1.7601-SP1-AMD64_Family_21_Model_2_Stepping_0_AuthenticAMD-3.4.3-64/tmppjjej7gi/ma4e9f27cd8b6607a974149aa15e08351.lib and object D:/Users/nico/AppData/Local/Theano/compiledir_Windows-7-6.1.7601-SP1-AMD64_Family_21_Model_2_Stepping_0_AuthenticAMD-3.4.3-64/tmppjjej7gi/ma4e9f27cd8b6607a974149aa15e08351.exp\n",
      "\n"
     ]
    }
   ],
   "source": [
    "jzs1model = Sequential()\n",
    "jzs1model.add(JZS1(33,60, return_sequences=True))\n",
    "jzs1model.add(JZS1(60,60))\n",
    "jzs1model.add(Dense(60,33))\n",
    "jzs1model.compile(optimizer=SGD(lr=0.1,momentum=0.8),loss='mse',class_mode=\"categorical\")"
   ]
  },
  {
   "cell_type": "code",
   "execution_count": 154,
   "metadata": {
    "collapsed": false,
    "scrolled": true
   },
   "outputs": [
    {
     "name": "stdout",
     "output_type": "stream",
     "text": [
      "Initial loss\n",
      "1719/1719 [==============================] - 1s     \n",
      "[0.042056869431558633, 0.011634671320535195]\n",
      "Training\n",
      "Epoch 0\n",
      "1719/1719 [==============================] - 3s - loss: 0.0392 - acc: 0.0145     \n",
      "Epoch 1\n",
      "1719/1719 [==============================] - 3s - loss: 0.0365 - acc: 0.0425     \n",
      "Epoch 2\n",
      "1719/1719 [==============================] - 3s - loss: 0.0356 - acc: 0.0762     \n",
      "Epoch 3\n",
      "1719/1719 [==============================] - 3s - loss: 0.0350 - acc: 0.0931     \n",
      "Epoch 4\n",
      "1719/1719 [==============================] - 3s - loss: 0.0344 - acc: 0.0989     \n",
      "Turning verbose off and training 100 epochs, this will take approx. 398.0827760696411 seconds\n",
      "New loss\n",
      "1719/1719 [==============================] - 0s     \n",
      "[0.023093559178390982, 0.56719022687609078]\n"
     ]
    }
   ],
   "source": [
    "print(\"Initial loss\")\n",
    "print(jzs1model.evaluate(trainX,trainy,show_accuracy=True))\n",
    "print(\"Training\")\n",
    "import time\n",
    "start=time.time()\n",
    "jzs1model.fit(trainX,trainy,nb_epoch = 5, show_accuracy=True,verbose=1)\n",
    "print(\"Turning verbose off and training 100 epochs, this will take approx.\", 20*(time.time()-start),\"seconds\")\n",
    "from sys import stdout\n",
    "stdout.flush()\n",
    "jzs1model.fit(trainX,trainy,nb_epoch = 100, show_accuracy=True,verbose=0)\n",
    "print(\"New loss\")\n",
    "print(jzs1model.evaluate(trainX,trainy,show_accuracy=True))"
   ]
  },
  {
   "cell_type": "code",
   "execution_count": 157,
   "metadata": {
    "collapsed": false,
    "scrolled": true
   },
   "outputs": [
    {
     "name": "stdout",
     "output_type": "stream",
     "text": [
      "class_mode: categorical\n",
      "layers:\n",
      "- {activation: tanh, init: glorot_uniform, inner_activation: sigmoid, inner_init: orthogonal,\n",
      "  input_dim: 33, name: JZS1, output_dim: 60, return_sequences: true, truncate_gradient: -1}\n",
      "- {activation: tanh, init: glorot_uniform, inner_activation: sigmoid, inner_init: orthogonal,\n",
      "  input_dim: 60, name: JZS1, output_dim: 60, return_sequences: false, truncate_gradient: -1}\n",
      "- {W_constraint: null, W_regularizer: null, activation: linear, activity_regularizer: null,\n",
      "  b_constraint: null, b_regularizer: null, init: glorot_uniform, input_dim: 60, name: Dense,\n",
      "  output_dim: 33}\n",
      "loss: mean_squared_error\n",
      "name: Sequential\n",
      "optimizer: {decay: 0.0, lr: 0.1, momentum: 0.8, name: SGD, nesterov: false}\n",
      "theano_mode: null\n",
      "\n"
     ]
    }
   ],
   "source": [
    "jzs1yaml=jzs1model.to_yaml()\n",
    "print(jzs1yaml)"
   ]
  },
  {
   "cell_type": "code",
   "execution_count": 158,
   "metadata": {
    "collapsed": false,
    "scrolled": true
   },
   "outputs": [
    {
     "name": "stdout",
     "output_type": "stream",
     "text": [
      "1719/1719 [==============================] - 0s     \n",
      "Untrained: [0.045702425345839147, 0.022687609075043629]\n",
      "1719/1719 [==============================] - 0s     \n",
      "Original: [0.023093559178390982, 0.56719022687609078]\n",
      "1719/1719 [==============================] - 0s     \n",
      "Copy: [0.040583413824603752, 0.056428155904595698]\n"
     ]
    }
   ],
   "source": [
    "jzs1copy = model_from_yaml(jzs1yaml)\n",
    "print(\"Untrained:\",jzs1copy.evaluate(trainX,trainy,show_accuracy=True))\n",
    "jzs1weights = jzs1model.get_weights()\n",
    "jzs1copy.set_weights(jzs1weights)\n",
    "print(\"Original:\", jzs1model.evaluate(trainX,trainy,show_accuracy=True))\n",
    "print(\"Copy:\",jzs1copy.evaluate(trainX,trainy,show_accuracy=True))"
   ]
  },
  {
   "cell_type": "markdown",
   "metadata": {},
   "source": [
    "## Unlike with LSTM, with JZS1 the progress is mostly lost:\n",
    "### Untrained: [0.045702425345839147, 0.022687609075043629]\n",
    "### Copy: [0.040583413824603752, 0.056428155904595698]\n",
    "### Accuracy 2.2% -> 5.6% , trained accuracy was 56.7%\n"
   ]
  },
  {
   "cell_type": "code",
   "execution_count": null,
   "metadata": {
    "collapsed": true,
    "scrolled": true
   },
   "outputs": [],
   "source": []
  }
 ],
 "metadata": {
  "kernelspec": {
   "display_name": "Python 3",
   "language": "python",
   "name": "python3"
  },
  "language_info": {
   "codemirror_mode": {
    "name": "ipython",
    "version": 3
   },
   "file_extension": ".py",
   "mimetype": "text/x-python",
   "name": "python",
   "nbconvert_exporter": "python",
   "pygments_lexer": "ipython3",
   "version": "3.4.3"
  }
 },
 "nbformat": 4,
 "nbformat_minor": 0
}
