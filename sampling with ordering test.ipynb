{
 "metadata": {
  "name": ""
 },
 "nbformat": 3,
 "nbformat_minor": 0,
 "worksheets": [
  {
   "cells": [
    {
     "cell_type": "code",
     "collapsed": false,
     "input": [
      "import random\n",
      "\n",
      "def w0nk0sample(a,diversity=0.4):\n",
      "    randomized = np.array(a)\n",
      "    winner = len(a)-1\n",
      "    while random.random() < diversity:\n",
      "        randomized[np.argmax(randomized)] *= 0.25\n",
      "    print randomized\n",
      "    return np.argmax(randomized)\n"
     ],
     "language": "python",
     "metadata": {},
     "outputs": [],
     "prompt_number": 21
    },
    {
     "cell_type": "code",
     "collapsed": false,
     "input": [
      "vec = [x*(1+x) for x in range(10)]\n",
      "import numpy as np\n",
      "v = np.array(vec)\n",
      "print v\n"
     ],
     "language": "python",
     "metadata": {},
     "outputs": [
      {
       "output_type": "stream",
       "stream": "stdout",
       "text": [
        "[ 0  2  6 12 20 30 42 56 72 90]\n"
       ]
      }
     ],
     "prompt_number": 26
    },
    {
     "cell_type": "code",
     "collapsed": false,
     "input": [
      "print w0nk0sample(vec,0.7)\n",
      "print w0nk0sample(vec,0.7)\n",
      "print w0nk0sample(vec,0.7)\n",
      "print w0nk0sample(vec,0.7)\n",
      "print w0nk0sample(vec,0.7)\n"
     ],
     "language": "python",
     "metadata": {},
     "outputs": [
      {
       "output_type": "stream",
       "stream": "stdout",
       "text": [
        "[ 0  2  6 12 20  7 10 14 18 22]\n",
        "9\n",
        "[ 0  2  6 12 20  7 10 14 18  5]\n",
        "4\n",
        "[ 0  2  6 12 20 30 42 14 18 22]\n",
        "6\n",
        "[ 0  2  6 12 20 30 42 56 72 22]\n",
        "8\n",
        "[ 0  2  6 12 20 30 42 56 72 22]\n",
        "8\n"
       ]
      }
     ],
     "prompt_number": 27
    },
    {
     "cell_type": "code",
     "collapsed": false,
     "input": [
      "print w0nk0sample(vec,0.9999)"
     ],
     "language": "python",
     "metadata": {},
     "outputs": [
      {
       "output_type": "stream",
       "stream": "stdout",
       "text": [
        "9\n"
       ]
      }
     ],
     "prompt_number": 20
    },
    {
     "cell_type": "code",
     "collapsed": false,
     "input": [],
     "language": "python",
     "metadata": {},
     "outputs": []
    }
   ],
   "metadata": {}
  }
 ]
}